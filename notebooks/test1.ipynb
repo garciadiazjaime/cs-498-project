{
 "cells": [
  {
   "cell_type": "markdown",
   "metadata": {},
   "source": [
    "# Initial data exploration"
   ]
  },
  {
   "cell_type": "code",
   "execution_count": 1,
   "metadata": {},
   "outputs": [],
   "source": [
    "import glob\n",
    "import re\n",
    "import sys\n",
    "import random\n",
    "import matplotlib\n",
    "import matplotlib.pyplot as plt\n",
    "from gensim import models, corpora\n"
   ]
  },
  {
   "cell_type": "code",
   "execution_count": 2,
   "metadata": {},
   "outputs": [
    {
     "name": "stderr",
     "output_type": "stream",
     "text": [
      "[nltk_data] Downloading package cess_esp to /root/nltk_data...\n",
      "[nltk_data]   Unzipping corpora/cess_esp.zip.\n",
      "[nltk_data] Downloading package stopwords to /root/nltk_data...\n",
      "[nltk_data]   Unzipping corpora/stopwords.zip.\n",
      "[nltk_data] Downloading package punkt to /root/nltk_data...\n",
      "[nltk_data]   Unzipping tokenizers/punkt.zip.\n",
      "[nltk_data] Downloading package averaged_perceptron_tagger to\n",
      "[nltk_data]     /root/nltk_data...\n",
      "[nltk_data]   Unzipping taggers/averaged_perceptron_tagger.zip.\n"
     ]
    }
   ],
   "source": [
    "import nltk\n",
    "nltk.download('cess_esp')\n",
    "nltk.download('stopwords')\n",
    "nltk.download('punkt')\n",
    "nltk.download('averaged_perceptron_tagger')\n",
    "\n",
    "from nltk import word_tokenize, pos_tag\n",
    "from nltk.corpus import stopwords\n"
   ]
  },
  {
   "cell_type": "markdown",
   "metadata": {},
   "source": [
    "## Utility functions\n"
   ]
  },
  {
   "cell_type": "code",
   "execution_count": 3,
   "metadata": {},
   "outputs": [],
   "source": [
    "# Random seed\n",
    "random.seed(498)\n",
    "\n",
    "def get_data(folder=\"../captions/\"):\n",
    "    line_re = re.compile(r\"^(?:\\d+(?:\\.\\d+)?\\s+)+(.+)$\")\n",
    "    docs = []\n",
    "    for file in glob.glob(folder + \"*_es.txt\"):\n",
    "        file_lines = []\n",
    "        with open(file) as fp:\n",
    "            for line in fp:\n",
    "                m = line_re.match(line)\n",
    "                file_lines.append(m.group(1))\n",
    "        docs.append(' '.join(file_lines))\n",
    "    return docs\n",
    "\n",
    "\n",
    "def get_tokenized_data(data):\n",
    "      return [word_tokenize(text.lower()) for text in data]\n",
    "\n",
    "def get_word_list(tokenized_text):\n",
    "    word_dict = dict()\n",
    "    for tokens in tokenized_text:\n",
    "        for token in tokens:\n",
    "            if token not in word_dict:\n",
    "                word_dict[token] = 0\n",
    "            word_dict[token] += 1\n",
    "    return list(word_dict.items())\n"
   ]
  },
  {
   "cell_type": "markdown",
   "metadata": {},
   "source": [
    "## Load data"
   ]
  },
  {
   "cell_type": "code",
   "execution_count": 4,
   "metadata": {},
   "outputs": [
    {
     "name": "stdout",
     "output_type": "stream",
     "text": [
      "Number of transcriptions 105\n"
     ]
    }
   ],
   "source": [
    "data = get_data()\n",
    "print(\"Number of transcriptions\", len(data))"
   ]
  },
  {
   "cell_type": "markdown",
   "metadata": {},
   "source": [
    "### Sample transcription"
   ]
  },
  {
   "cell_type": "code",
   "execution_count": 5,
   "metadata": {},
   "outputs": [
    {
     "name": "stdout",
     "output_type": "stream",
     "text": [
      "bueno pues muy buenos días tal cómo que anunció el presidente ahorita a las de la mañana el secretario de comunicaciones de transportes y el subsecretario darán a conocer los resultados de todos los estudios que se realizaron desde el punto de vista técnico con respecto al accidente de helicóptero con el lamentable saldo de dos de vidas perdidas entonces sin más le cedo la palabra al señor secretario muchas gracias muy buenos días muchas gracias por su atención y por su interés como fue dicho desde un principio por el señor presidente de la república las investigaciones en relación con el lamentable accidente el helicóptero en que perdió la vida la señora gobernadora del estado de puebla su esposo y celador un acompañante y los tripulantes será dado a conocer periódicamente en detalle con toda transparencia y con toda claridad no vamos a ocultar en este caso ningún punto en relación con las investigaciones el ingeniero carlos morán moguel subsecretario del transporte que ha lanzado a cargo por la secretaría de comunicaciones y trasportes del curso de la investigación les va a ustedes hacer una relatoría sobre desde el principio desde el día 24 de diciembre pasado del día del accidente hasta este momento una vez que haga la presentación ligera moral no estamos a sus órdenes si existe alguna pregunta o alguna duda que quiera ustedes que aclararnos muy buenos días a todos bueno como como es de su conocimiento se llevó a cabo presentamos a ustedes en el mes de diciembre en varias oportunidades en las acciones que se estaban iniciando las que se estaban emprendiendo vamos a darles a ustedes un avance en que se encuentra el proceso de investigación hasta el momento como es de su conocimiento al ocurrir el trágico evento del 24 de diciembre inmediatamente concurrieron las autoridades locales se hizo cargo la fiscalía del estado de puebla de la investigación primero lo primero que hubo que hacer naturalmente fue y sacar a los cuerpos la señora gobernadora del senador de los acompañantes y los tripulantes y después se procedió a el proceso de investigación la dirección general de roca civil las autoridades técnicas en la investigación no pudieron participar sino hasta el día siguiente el día 25 después de que se dieron a cabo las intervenciones de la secretaria de marina para la búsqueda de algunos otros materiales explosivos y demás y entonces entrado el proceso de investigación bueno en las datos de la aeronave como es del conocimiento de ustedes se trata de un helicóptero augusta 109 modelo 2011 con certificado de aeronavegabilidad vigente y convencimiento hasta el 19 de septiembre del 2020 el tiempo total de vuelo de la aeronave era de 2000 74 horas era una aeronave relativamente nueva propiedad de servicios aéreos del altiplano es ya de cb que es un taxi aéreo con base en el aeropuerto internacional de toluca y que también tiene sus certificados de taxi aéreo para transporte de pasajeros vigentes los pasajeros no regulares los que se tienen los taxes el taller de mantenimiento rotor flight service es que sea de seve tiene su base en el aeropuerto de toluca y tiene también certificado vigente que con categoría 3 para helicópteros adelante la dirección general de la notica civil de la secretaría de comunicaciones y trasportes la responsable de la investigación en materia técnica de conformidad con el anexo 13 de la organización de la aviación civil internacional y el gobierno del estado ha participado a lo largo de todo el proceso desde esta etapa primera en la que comenté a ustedes con el propio gobierno representado en el proceso de investigación técnica por uno de los pilotos de helicóptero que además será compañero de los tripulantes y bueno él participó desde el inicio hasta la etapa prácticamente en que cerramos la investigación de campo también se contó con el apoyo de la secretaría de la defensa nacional en lo que fue el acordonamiento del sitio de la secretaria de marina con algunas personas que nos apoyaron pilotos y un mecánico de helicópteros como el que se accidentó y también contamos desde luego con la participación de los fab el fabricante de las turbinas el fabricante de la de la aeronave del helicóptero y del colegio de pilotos de méxico pero son las personas que directamente participaron por parte de las diferentes autoridades y están el fiscal general del estado de puebla gilberto higuera la delegada fiscal del estado de puebla alejandra flores y su personal y por parte de servicios aéreos del estado del pueblo del gobierno del estado el capitán césar falconí por las propiedades de la república estuvo a cargo julio césar chávez y la secretaria de defensa y marina tuvieron las responsabilidades a las que me referí nacional el 95 batallón tuvo la parte de acordonamiento del sitio desde el principio contamos con la presencia de fabricantes de la aeronave y de motores son gentes de las propias empresas las que ven ustedes en pantalla y además por parte del colegio de pilotos si de santiago lópez vicepresidente del mismo esta es la comisión investigadora de la dirección general de la notica civil el director de investigación de accidentes armando constantino estado a cargo y coordinar todos los esfuerzos de la investigación técnica y ha contado con el apoyo de esas personas del departamento de inspección francisco oropeza de miguel hernández y de marc fernández inspectores verificadores al igual que christopher calderón y carlos cruz ahora se contó también con el apoyo de entidades de las autoridades independientes investigadoras de accidentes del canadá de los eeuu de américa de italia y de europa son las instituciones todas son instituciones investigadoras independientes quiere esto decir que no forman parte ni de las fabricantes de los de los equipos ni tampoco son miembros de alguna institución en particular como no sean estas propias de la investigación independiente de accidentes son expertos en este tema adelante este es el equipo de canadá canadá estuvo representado por él el transportation safety board el consejo de seguridad en el transporte de ese país a cargo de ese grupo vino jimmy cansino como jefe y ahora vale que es especialista en investigación de accidentes de helicópteros de canadá además el ministerio del transporte de carnada también quiso estar representado mandar a una persona es experta en normatividad asociada a los accidentes y es el señor steve carr una autoridad también en la materia ellos se incorporaron prácticamente el día 28 de diciembre inmediatamente y además después fueron acompañados en la siguiente por el look yada es el investigador regional de la national transportation safety board de los eeuu una de las instituciones más prestigiadas del mundo también en materia de investigación de accidentes bloqueada pudo venir les recuerdan que informamos que estaba en cierre el gobierno está en cierre todavía el gobierno de los eeuu y se hicieron gestiones especiales por parte de las secretarías relaciones exteriores se logró contar con la presencia de éste jefe investigador experto por parte de la la agencia europea de seguridad en la aviación vino bario colavita un investigador también de primer nivel de europa y que además incluso tuvo gestiones especiales para que nos acompañaron las autoridades de investigación independientes de italia que es el país fabricante de los helicópteros la agencia de las de la seguridad de los vuelos de italia envió también a dos personas a bárbara nazi ya giorgio docena y ahí aparece también hay torres de leonardo helicopters es otro de los colaboradores que estuvieron partes la coordinación del equipo italiano además es un interés especial por parte del gobierno de ese país para que michael moore a un experto en investigación de accidentes coordinará incluso desde italia también algunas otras actividades relacionadas con el accidente transport bueno esta es la actitud del impacto del aparato esto ha sido también del conocimiento de ustedes el impacto tuvo el aparato tuvo un impacto a 60 grados e invertido en posición invertida ya había sido anotado por algunos medios su mente se impacta a 60 grados más o menos por la forma del cráter que dejó en el terreno adelante a que los equipos de investigadores extranjeros están en el sitio del accidente y se montó una una tienda de operación en un lugar donde se fue el espacio de trabajo en campo y se realizó la pesquisa de los componentes principales la parte asociada aviónica adelante por favor todos los instrumentos y la parte social aviónica del aparato recuperados algunos en condiciones muy desventajosas otros sin duda con posibilidades de extraer la información esa información fue estos aparatos fueron concentrados después como lo veremos en la propia comandancia del aeropuerto y también se puso especial énfasis nos cambia en la pantalla en algunos otros componentes que se identificaron el gps de la aeronave adelante las unidades de colección de datos son unidades importantes porque allí ella se puede extraer tanto de los motores como este de la propia aeronave como cual era la actitud de vuelo la dirección las las revoluciones de los motores temperaturas etcétera la operación la aeronave fue trasladada a los de recogida lo más cuidadosamente que se pudo y fue trasladada a un hangar ahí mismo en el aeropuerto siguiente siguiente para ser resguardados los componentes tanto electrónicos como de la aeronave en su conjunto aquí puede ustedes apreciar que en este hangar aparece una silueta tal vez un poco difícil de distinguir pero está una silueta dibujada en el piso del hangar que es la silueta del helicóptero a dónde van a ir e irse colocando las los diferentes componentes clave digamos para un proceso de investigación de esta naturaleza ahí aparecen extendido los componentes una vez colocados en esta posición identificados de acuerdo incluso con lo que pudo haber sido su posición de vuelo esté colocados en forma ya vertical lo normal digamos en el aparato entonces se procedió a hacer una supervisión de sus de los componentes a ver en qué condiciones se encontraban adelante y así este para cada uno de los componentes críticos además de los del aviónica los que me haría yo referido antes los instrumentos están pues y haciendo los análisis por parte de los expertos tanto nacionales como extranjeros pueden ustedes apreciar incluso en la anterior un modelito de uno de los helicópteros que está siendo ubicado para publicar la componente de la que se trata por parte de giorgio docena de italia adelante también se hizo una identificación con con fotografías hacia las partes interiores de los componentes algunas de ellas como veremos en la siguiente imagen como los copió con imágenes de poros propios se pudo identificar hacia adentro cosas como las que ve entonces aquí aparentemente están ausentes algunos tornillos sin embargo ya después vimos que estaban seleccionados y que por la parte interior aparecía el el tornillo en la parte interna del tornillo quiere decir que en el impacto fue que se dio el desprendimiento bueno son también parte relevante del análisis son las partes de controles de vuelo del plato desde el plato oscilante adelante y la inspección por hosco pica debe de motores también es relevante para ver en qué condiciones se encuentran los álabes del tanto del compresor como de la turbina y se tomaron también imágenes pero esta información y la recabada también de las bitácoras las bitácoras de mantenimiento de la propia aparato del de los del taxi aéreo de los servicios en el taxi ario de las horas de vuelo y demás fue analizada por los expertos y éstas esta información era se hacían reuniones se llevaron a cabo reuniones pues cada mediodía para ver cómo iba el proceso y se ponían en común las componentes relevantes como son los motores el rotor en la caja de engranes en fin la aviónica ha sido almacenadas y se fabricaron contenedores sociales en la madera bajo las especificaciones de los fabricantes adelante y fueron así empacados aquí de esta forma en estas cajas para que no sufrieran ningún daño en el traslado a los laboratorios en donde se va a hacer la investigación de detalle de cada uno de los componentes es el la preparación también para el envío de la transmisión no únicamente de la de los motores y así quedaron preparadas las cajas y enviadas a los laboratorios que les vamos a mostrar a continuación bueno a italia se envió el los sistemas de transmisión y rotor principal el laboratorio se encuentra en el leo largo helicopters augusta y ahí nos va a ser el favor incluso de asistir tanto la autoridad italiana como la americana no nos pidió estar presente incluso se prestó a estar presente el representante del gobierno de los eeuu en este caso de la agencia investigadora eeuu en el momento en que se haga apertura del sistema de transición y motor principal a los estados unidos fueron enviados al laboratorio de horwill en jeans los actuadores lineales que aparecen ahí que también son parte de la estructura del rotor para el cabeceo el plato auxiliante a los sonidos también la tecla unidad de adquisición de datos de información a donde fue enviado también adelante a canadá los motores que son marca pratt and whitney de fabricados en plata y canadá los motores 1 y 2 el de izquierdo y el derecho y esos van a ser atendidos en plata en güidi adelante por favor no yo creo que atrás no no es el área de saltos otro autor más y azafrán electronics la parte electrónica de los motores también la parte que tiene información sobre las revoluciones la temperatura y otros datos de actitud del de los propios motores también va a ser recuperada esperemos allí en la en la unidad d el laboratorio de digital de safran y adelante bueno el proceso se encuentra en este momento en la parte de envío de componentes han sido enviados los componentes al laboratorio ahí cada laboratorio va a ser un análisis detallado está haciendo en este momento semanales detallado enviará pues el reporte a sus autoridades nacionales para que éstas la integren en cada uno de los países y se enviarán los reportes a la dirección general de aeronaútica civil para la integración del expediente y el reporte final iremos nosotros enterando les a ustedes de qué es lo que va ocurriendo en este proceso que se va a dar pues en diversas partes como verán ustedes el del extranjero de traducciones pues esta es la cronología como dice el señor subsecretario todos los componentes están en los laboratorios correspondientes dándoles en cada caso seguimiento las autoridades de vigilancia desde la supervisión de los accidentes por nuestra parte de la dirección general de aeronaútica civil toda la información recabada está en análisis y estamos desde luego esperando vamos a esperar a los dictámenes de los diferentes laboratorios y de las agencias que nos han apoyado para complementar toda la información y obtener el dictamen final ese es el estado que se guarda y estamos a sus órdenes gracias buenos días secretario me gustaría saber cuál es el plazo que se le ha dado a estos investigadores extranjeros para poder dar alguna determinación o respuesta a estas investigaciones toda vez que el presidente de mexico ya adelantaba que tendría que ser en una en un tiempo considerable que no se prolongarán las investigaciones las dicen no les podemos dar plazo son investigaciones se hacen en el laboratorio y los resultados pueden ser pronto pero pueden no serlo estamos hemos solicitado una atención especial una gran exigencia de los laboratorios y la solicitud de hacerlo a la brevedad posible los intereses de nuevo esclarecer este asunto lo antes posible pero tampoco se puede en nuestras opciones de carácter técnico precipitar las cosas tenemos que esperar esto y daremos en el momento que vayamos teniendo los dictámenes correspondientes de usaremos del conocimiento estamos hablando nosotros de de toda la parte técnica de lo que puede ser un accidente del evento que lamentablemente ocurrió está por otra parte de la parte procedimental que es la parte ministerial que tiene por una parte el análisis que hizo la fiscalía del estado de puebla y por la otra en la que empezó a hacer la procuraduría hoy fiscalía general de la república en donde también por su parte harán los los análisis correspondientes en función del dictamen técnico podrá ver como les expresó a ustedes hoy el fiscal general podrá ver nuevas líneas de investigación pero no vamos a especular en este caso hay diferentes hipótesis el les marcó una de característica ante técnico a partir de algunas cuestiones que pueden darse pero en función de las dos de los dos dictámenes tanto los que ellos están haciendo el punto de vista de la procuraduría y de la fiscalía como la parte técnica se hará el complemento de la información general pueden ser semanas pero pueden ser meses también estos dependerán de los diferentes laboratorios una de las excursiones que menciona el ingenio moral que va a ser muy importante es que se llevaron los dos se llaman los avionics o sea los instrumentos que trae el aparato y que van y que manejan que tienen la información del comportamiento de las turbinas por una parte y el otro también el comportamiento llamémosle geométrico de la aeronave esos instrumentos no sabemos cuál es el resultado final de la posibilidad de obtener información por saban algunos de ellos muy deteriorados aunque los técnicos señalaron que ellos creían que de todas formas habría información importante a recabar de ellos pero ahí sí tenemos que esperar la solución técnica buenos días a todos alberto morales del universal desde el punto de vista aeronáutico y para quienes no somos expertos en la materia podrían decirnos para ustedes qué significa que la aeronave haya caído de manera invertida y con este ángulo que mencionan de 90 grados podría haber alguna hipótesis de que puestos a trato no se alguna falla técnica o consecuencia del medio ambiente gracias yo no quisiera realmente especular sobre cuál fue el origen de una maniobra de esa naturaleza puede haber muchas razones los tuvimos practicando nosotros con con los técnicos ellos tan igual que nosotros no dicen en realidad no lo sabemos vamos a analizar los componentes para ver qué pudo haber ocurrido con controles de mando con este el oscilador no se sabe qué pudo haber ocurrido hasta que nos tenga el análisis del laboratorio de a dónde se hace ahí si se hacen pruebas destructivas no sólo se ve este cristal o gráficamente cómo se encuentra a cada uno de los componentes que pueden pudieron haber sido sujetos de fatiga de esfuerzos abruptos no lo sabemos eso lo va a usar a tratar de dilucidar todo puede haber ocurrido alguna falla de otro tipo no que no queremos especular la verdad es que no es sería irresponsable especular sobre responsabilidad de alguien no lo sabemos no quisiéramos adelantar absolutamente nada hasta no tener la propia opinión que ellos tienen porque ellos dieron todo las autoridades también lo vieron buenos días con el tramo del sol de mexico para preguntar sobre la empresa de servicios aéreos de altiplano cuál es el estatus actual la empresa la empresa dueña del helicóptero servicios áreas del altiplano cuál es el estatus legal si se le retiró el permiso pues entendemos que desde diciembre desapareció su página no y que ya había habido otros accidentes con aeronaves de este tipo cuál es el estatus de la empresa y si está en investigación bueno el ingeniero no explicaba que la empresa estaba en orden y si ha habido accidentes de helicópteros en otros momentos pero no relativamente de esa empresa la empresa tenía sus certificados vigentes en orden buenos dias nel y segura de notimex decían que habían encontrado rescatado unidades de recolección y gps que esto es muy importante que información es la que les puede ofrecer estos instrumentos y como serviría para la investigación gracias bueno es lo que mencionábamos hace hace un momento algunos de los instrumentos dan en la biografía del bueno en relación con las turbinas cómo van a sus vidas ahí nos dirán si el principio del elemento fue porque falla una turbina o no la temperatura de la turbina en las revoluciones por minuto que iba dando en todo el trayecto correspondiente etcétera y lo mismo sucede con los equipos de gps y con los equipos de aviones en general del helicóptero nos van si se puede rescatar ojalá y esperamos que sí sino si se puede rescatar toda la información de los avión knicks podremos simular ver en el laboratorio el trayecto del helicóptero y porque en donde en qué momento viene el problema que provocó la caída del mismo pero esto repito no se sabrá hasta que no se descarte toda la información disponible y accesible en función de las condiciones de los aviones buenos días escuchamos ya el informe detallado por parte del subsecretario esta cronología podría precisar le a los mexicanos desde su perspectiva en qué condición se encuentra la investigación a nivel técnico como pueden identificar con los datos que tienen cuáles serán las condiciones de la aeronave y qué es lo que han hallado hasta el momento por favor ingeniero bueno lo que hemos hallado es lo que se dijo un evento lamentable y encontramos el helicóptero una posición especial cayó casi verticalmente pero que con el rotor principal hacia el suelo dio una vuelta no sabemos cuál fue la causa si fue una comercial y género moral si fue una falla de alguno de los componentes del helicóptero un problema de maniobra no sabemos qué pasó si el problema no obra se comunicó con un problema meteorológico no lo sabemos eso es lo que vamos a saber en relación con los resultados que el laboratorio de cada uno de las partes como ustedes vieron que alguno de los componentes han sido enviados y enviado al laboratorio especialista en esa parte o sea no se mandó todo el conjunto del helicóptero a un lado para ver que hagan cada uno de los componentes fue enviado los aviones al bajo nivel de la máquina italia las turbinas al canadá en función de la especialidad de cada laboratorio que se tiene disponible el conjunto de información de cada uno de los autores era puesto en un solo paquete que lo harán los expertos del canadá de los sonidos y de europa y darnos su su versión de qué fue lo que aconteció con él o la nave pero pero a dónde vamos es en lo que dijo moore es ya se recopiló todo se hicieron las investigaciones de campo se buscaron todas las partes hubo algunos descubrimientos como aquí vienen ustedes en la fotografía de tornillos descabezados que llegan a la conclusión de que fue durante el impacto y no antes si hubiera sido antes se hubiera podido provocar el accidente eso parece que no es el caso en fin toda la información que va a recabar de los diferentes laboratorios es la que se va a conjuntar para obtener el dictamen final no podemos antes de eso tener una una posición definitiva en relación a qué cosa condición con el ico secretario hay alguna información acerca de la comunicación que tuvo la aeronave con alguna torre de control cuál fue esta última comunicación y en cuánto tiempo se perdió la aeronave y ya no se tuvo comunicación con esta y pues bueno básicamente que fue lo último que comunicó el piloto con la torre de control gracias si ustedes recuerdan se informó aquí en algunas de las ocasiones en que hemos hablado de este asunto que cuando el helicóptero despega establece contacto con la torre de control del aeropuerto de puebla voy a volar y en la torre de control le dicen dirígete a tal parte y cuando oyes a este sitio te comunicas con nosotros para decir cuáles son sus funciones de vuelo a qué altura vas cuando llegue ese momento en donde se supone que el helicóptero llegar a esa posición no hay comunicación del actor de control se tratan de comunicar con el helicóptero hay una intención fallida lo vuelven a repetir y lo repiten 99 veces nueve veces y esto fue según parece alrededor de diez minutos después del inicio del vuelo se lleva diez minutos volando en helicóptero cuando deciden como no se comunica en el momento en que se supone que deberá comunicarse de la torre de control lo buscan y no lo encuentran le hablan nueve veces y el momento en que en la novena vez no pero no hay ningún otro tras co lamentablemente los helicópteros no tienen lo que se llama en los aviones la caja negra o sea no se va grabando lo que se va diciendo o lo que lo que el piloto y el copiloto van comentando entre sí no es eso no hay por eso tenemos que recabar los datos técnicos físicos de la aeronave y de la turbina para ver qué pasó no no hubo comunicación dio ninguna señal de alarma simplemente después de 10 minutos se perdió ya no se pudieron comunicar con ellos buenos dias alexis para donde sdp noticias me gustaría saber si ustedes han tenido algún tipo de contacto con la familia de las víctimas o de las personas que perdieron la vida el accidente y si han estado conformes con la explicación y con el proceso que se está siguiendo para dar resultados a lo que ocurrió y también si todo este toda esta cronología que nos hacen y todo el todo lo que falta todavía para definir la investigación implica un recurso adicional a los que con los que se cuentan las dependencias involucradas en la investigación gracias no nosotros las gentes de comunicaciones no han tenido contacto con la familia en un principio elige morán habló con la señora con la con con la esposa del capitán pero es la única comunicación que hemos tenido con él en reacción a la familia a perdonar en el área de medicina del transporte y habló con los familiares de los tripulantes y también intento o hizo su parte aportando pues el soporte que se tiene cuando hay un duelo también tuvieron contacto y entrevistas con otros tripulantes de manera que pudiera tener su información más completa de los accidentes de ese tipo con las tripulaciones como lo comenté con ustedes también por parte del gobierno del estado que estuvo participando u otro piloto de helicóptero compañero de ellos ellos eran los dos el capitán como capitán y como copiloto gente se reconocidas en el medio respetadas con buena reputación y bueno ahí sí tuvimos una interacción razonablemente completa no se dan avances de la investigación a los familiares porque no es propia es igual que en el caso entonces hasta que tengamos realmente certeza de que qué ocurre y como lo comentó el ingeniero jiménez la investigación tiene diferentes este elementos no hay una parte que es la que realiza la fiscalía en el estado de puebla tienen información tiene información incluso de necropsias tienen otro tipo de datos a los que nosotros no hemos tenido un acceso muchas gracias generar te haga bien la primera es quien va a realizar el reporte final para que se pueda conjuntar toda la investigación que van a realizar los diferentes laboratorios en la dirección general de aeronaútica civil que es la responsable por la parte de las autoridades mexicanas desde el punto de vista técnico ok tengo una pregunta más señor secretario sé que no es motivo de esta conferencia pero quisiera ver si podría actualizar nos sobre la información que vive el presidente respecto a los depósitos de gasolina robada que se habían encontrado en la construcción de lo que iba a ser el nuevo aeropuerto de texcoco habrá ya alguna información adicional sobre qué empresa era la que tenía o la que compraba ese combustible no creo que haya una deformación de la información no no se encuentran depósitos de gas tenía robada en el aeropuerto de méxico perdón lo que se comentó si no estoy lo recuerdo mal es que en lo personal me tocó hacer un recorrido en la región de externa el aeropuerto visitamos las minas y vimos instalaciones en donde se planteó que eran huachi coleros en donde se surtía a los a los transbordos que recogían el test hombre y lo llevaban al aeropuerto pero no fue en el aeropuerto y comentamos pero no sólo nosotros sino algunos compañeros de ustedes no sé si algunos de ustedes fue cuando hicimos este recorrido se incorporaron a la comitiva del recorrido no sé cuántos 25-30 representantes de medios de comunicación con con micrófonos con cámaras de televisión con drones que nos acompañaron y fueron testigos de esto que la contención de cuando llegamos a la zona cuando enviando a la zona se escucharon algunas ráfagas de balazos no un poco no nos dispararon pero ráfagas de balazos un poco advirtiéndonos ya no se acercan y nos plantearon que eran instalaciones de huachi coleros había el rumor desde antes de que los muchos de los camiones que transportaban el tezontle y el basalto al aeropuerto se surtían de gasolina y entonces no estaba en el centro no no había ningún depósito dentro del aeropuerto ni ninguno gracias buenos dias gabriela jiménez el sol de mexico preguntarle bueno más bien si nos pudiera aclarar dos cosas entonces de estas investigaciones preliminares que se hicieron han determinado que no hubo un sabotaje como tal a la al helicóptero antes de aterrizar y la otra es si cabría la posibilidad entonces de que hubiera sido inducido vaya de que el piloto hubiera de éste hubiera sido el que haya piloteado como en picada este la aeronave gracias no no hemos hablado de investigaciones preliminares es un proceso de investigación que va en la etapa que mencionó el señor subsecretario las noticias prendí milán salud hay un camino de investigación y en el cambio de posición no hay conclusiones de ninguna y índole te digo la especie no estamos hablando de que si pudo haber un sabotaje o no pudo haber un sabotaje ni que hemos hablando de que el piloto pudo haber hecho tal cosa o haber si no no no no se ha planteado ninguna y potencia es justamente para no especular no tenemos ningún dato al respecto pero acabo de decir que en los tornillos que encontraron pues no se tienen índices de que hayan sido alterados y que por eso pues descartaban que hubiera o se hubiera tenido una falla antes de y que más bien que se modificaron por así decirlo cuando n durante el impacto por eso iba por ahí me preguntan o no bueno en el transcurso de la investigación hay algunas cosas que se van desechando cuando comercial y moral ven en una en una parte del helicóptero que hay tuercas en un tornillo y otros tornillos y tuercas y bueno qué pasó aquí entonces al analizar y ver que adentro es el tornillo y que lo que se rompió fue la tuerca viene la conclusión y responde a la incógnita de qué pasó aquí pues qué pasó que en el golpe se rompieron surgen en las torres es más creo que están cortaron las tuercas después ahí se encontraron las tuercas que se rompieron al y para eso se descarta aquí es hacerlo si se puede decir esto que para encontrarnos aquí que altera la condición física original del helicóptero fue porque impactó pero eso no trae como consecuencia ninguna forma de decir esto fue la causa del accidente verónica jiménez de noticias énfasis preguntarle ustedes ya decían que la caída del helicóptero la forma en que cayó es inusual para los expertos también fue esto notorio y saber si ellos le comentaron cuántos accidentes de helicóptero han sido similares bueno si han habido no no nos dijeron cuántos y si llega a ocurrir si es inusual no es nuestro normal es una de las cosas que llama la atención que haya una una caída prácticamente casi vertical digamos a 60 grados y además invertida no es no es normal algo generó el giro del helicóptero y eso pueden haber sido muchos otros causas que ahorita no tenemos manera de validar o del es decirles cuál pudo haber sido adelantar en los expertos no adelantan nada los expertos están iguales además se manejaron con mucha libertad con muy abajo una gran apertura con nosotros no bueno vamos a analizarlo hay más ellos han vivido muchos más accidentes de este tipo que nosotros porque el viento son países en donde hay en europa y en los eeuu en canadá hay una gran cantidad de donarse entonces en realidad no no podemos en este momento especular más hay que dejar que los laboratorios hagan su tarea los laboratorios son laboratorios altamente profesionales yo creo que esta investigación también nos ha servido a nosotros a todos y al propio cuerpo de investigadores de aeronáutica civil para conocer un poco más cómo se ven otras metodologías de investigación a ellos mismos entre sí al poner en común sus perspectivas sobre el proceso de investigación el resultó muy útiles para los investigadores les recuerdan estuvieron aquí pues pasaron las fiestas no llegaron aquí y pasaron aquí el año nuevo y estuvieron trabajando trabajando intensamente ellos son gentes apasionadas de escucharla como lo es también el grupo de investigación es nuestro es como una trabajo detectivesco pues que a ellos también les resulta muy apasionante tratar de llegar a la verdad además debo aclarar que en todo esto y en aras de la absoluta transparencia como nos fue instruido posición presidente de la república durante todo el proceso la investigación que se hicieron aquí en campo la ex hizo en el hangar con el análisis de las piezas con la utilización de instrumentos sociales que trajeron los propios microscopios de cierta especialidad en todos los casos estuvo ha estado presente todo el grupo de investigados tanto los nuestros como los las autoridades de la del estado de puebla tanto desde el punto de vista de la procura de la fiscalidad del pueblo como de la procuraduría de la república para que no hayan todo lo que se ha hecho ha sido el conocimiento del grupo participante en los diferentes atalayas de observación buenos días secretarios y walter zúñiga de grupo acir a mí sí me gustaría insistir en este tema de los depósitos de gasolina robada en el aeropuerto de texcoco porque hace unos días precisamente el presidente se comprometió con nosotros a que en coordinación con usted nos entregarían toda la información de este hallazgo él lo confirmó que en la obra de texcoco había depósitos de gasolina robada y no no se nos ha proporcionado esa información entonces a mí me gustaría que si nos aclarara sí sí lo sabía o si no lo sabía mire cuando el señor presidente dijo eso y volvió después de su parte el presente dijo en relación con la participación de los guachis coleros en las obras del aeropuerto fui informado de esto por el ingenio jiménez espriú y le voy a pedir a él que les informe a ustedes del caso les informó del caso lo repito no había depósitos en el aeropuerto de teatral de hecho nunca ha habido depósitos de gasolina en el aeropuerto lo que se utilizó como gasolina fue lo que utilizaron todos los transportistas de tezontle y de basalto que eran durante mucho tiempo fueron del orden de seis mil transportistas de camiones diarios que llevaban tezontle y después sacaban los que iban obteniendo se los lodos que salían de las cimentaciones y los llevaban y los tiraban ahí por ahí en esos transportistas son los que se planteó que utilizaban no digamos todos pero una buena parte de ellos algunos de ellos gasolina robada y en las visitas que yo hice a la zona para ver esto vimos las instalaciones pero las vieron algunos compañeros de ustedes sin sal salieron en fotografías y demás de los periódicos con exactamente qué día fue durante el mes de noviembre todavía que pasó lo que les estoy comentando este fue el hecho se utilizó en su fuera la presión que tuvimos se utilizó para los transportes para los transportistas que llevaban los minerales al aeropuerto wsi con llamémosle no hay no hubo ni hay ni nunca hubo depósitos de combustible el aeropuerto no eran necesarios depósitos como esta secretario ricardo ortiz del heraldo en mexico dentro de estas investigaciones que ya están realizando han encontrado si el helicóptero hay versiones que dicen que el helicóptero se incendió antes de que cayera también en preguntarles me han comentado que este servicio era reiterado y lo ocupaba reiteradamente el senador rafael moreno valle saben si este helicóptero era el que utilizaba cada semana cuál era la frecuencia que lo utilizaba y por último cuál fue el costo se les pagó a los investigadores que vinieron otros países cuánto costó el desplegar pues todo este material a los países donde ya nos informaron que se van a realizar estas innovaciones por esta parte última no se les pagó nada es parte de los convenios internacionales que hay no hubo necesidad de pagarles y además vinieron con la mejor voluntad y con la autorización de sus países para quedarse el tiempo que fueran necesarios para realizar la investigación de hecho en estos convenios para ese caso se acuerda que no se pague nada para que no vaya a ver en ningún caso de la suspicacia de que vayan a responder en un dictamen a quien les paga el son son convenios internacionales en donde hay una gran solidaridad y un gran acuerdo de que no haya jueces y partes y menos de que alguien vaya a hacer un servicio y él y el contratista sea el que vaya a recibir una un dictamen contrario al contratista y llamemos no hay contratos es un un acto de colaboración internacional aparte de los traslados se va incluida también en lo que es la parte investigación al al operador el operador debe de pagar también esto está normado los traslados de los componentes incendio del helicóptero sin información no es esa información en realidad eso debe de responder a eso quien realizó estas investigaciones que es la propia este fiscalía en puebla la información de la que disponemos nosotros es de que de 9 pero hay que preguntárselo a ellos pero de 9 declarantes uno manifestó visto el fuego no es algo que incluso alguna periodista también pero en fin en las investigaciones ministeriales habrá que preguntarles también a ellos que tienen la parte ministerial y sobre el uso del helicóptero reiteradamente por el senador y esta vía uso del helicóptero no recuerdo no sé cuántas veces fue utilizado este helicóptero este si éste y otros helicópteros que el que tiene el gobierno del estado pero éste era rentado sí estos servicios en orden en helicópteros no podemos darles datos ahorita de los hallazgos de bitácora salvo estos que estaban en su servicio vamos a si les parece terminar con la pregunta buenos días preguntarles e insistir un poco cuál en qué condiciones se pueden dar una una caída de este tipo que puede ocurrir para que para que pueda ocurrir un accidente no tener una respuesta y hay muchísimas pero como cuáles pueden ser una falla mecánica un piloto una condición adversa meteorológica y aparentemente no había puede ser muchas las causas o una falla de mantenimiento incluso aunque estuviera en orden la bitácora y los servicios pueden ser muchas causas que eso esperamos el mundo esperanza de que surja a partir de todas estas investigaciones pues muchísimas gracias una vez que tengamos ya alguna información trascendente y muy importante a comunicarles le solicitaremos al señor presidente de la república que nos autoriza a comunicarse\n"
     ]
    }
   ],
   "source": [
    "print(data[random.randint(0, len(data))])"
   ]
  },
  {
   "cell_type": "markdown",
   "metadata": {},
   "source": [
    "### Word count"
   ]
  },
  {
   "cell_type": "code",
   "execution_count": 6,
   "metadata": {},
   "outputs": [],
   "source": [
    "tokenized_text = [word_tokenize(text.lower()) for text in data]"
   ]
  },
  {
   "cell_type": "code",
   "execution_count": 7,
   "metadata": {},
   "outputs": [],
   "source": [
    "word_list = sorted(get_word_list(tokenized_text), key = lambda x: -x[1])"
   ]
  },
  {
   "cell_type": "code",
   "execution_count": 8,
   "metadata": {},
   "outputs": [
    {
     "name": "stdout",
     "output_type": "stream",
     "text": [
      "Unique word count 24109\n",
      "Top 10 words [('de', 38355), ('que', 28120), ('la', 23037), ('a', 20307), ('y', 18451), ('el', 18425), ('en', 16753), ('se', 13345), ('los', 11310), ('no', 10679)]\n"
     ]
    }
   ],
   "source": [
    "print('Unique word count', len(word_list))\n",
    "print('Top 10 words', word_list[0:10])"
   ]
  },
  {
   "cell_type": "markdown",
   "metadata": {},
   "source": [
    "#### Remove irrelevant words\n"
   ]
  },
  {
   "cell_type": "code",
   "execution_count": 9,
   "metadata": {},
   "outputs": [
    {
     "name": "stdout",
     "output_type": "stream",
     "text": [
      "Unique word count 18924\n",
      "Top 10 words [('entonces', 2006), ('pues', 1503), ('presidente', 1425), ('gobierno', 1223), ('ser', 1078), ('hacer', 920), ('bueno', 918), ('mil', 838), ('tener', 830), ('caso', 785)]\n"
     ]
    }
   ],
   "source": [
    "STOPWORDS = stopwords.words('spanish')\n",
    "\n",
    "def clean_text(text):\n",
    "    is_noun_adj = lambda pos: pos[:2] == 'NN' or pos[:2] == 'JJ'\n",
    "\n",
    "    tokenized_text = word_tokenize(text.lower())\n",
    "    all_nouns = [word for (word, pos) in pos_tag(tokenized_text) if is_noun_adj(pos)]\n",
    "\n",
    "    cleaned_text = [t for t in all_nouns if t not in STOPWORDS and re.match(r\"[a-zA-Z\\-][a-zA-Z\\-]{2,}\", t)]\n",
    "    return cleaned_text\n",
    "\n",
    "\n",
    "tokenized_text_no_stop_words = [clean_text(text) for text in data]\n",
    "word_list = sorted(get_word_list(tokenized_text_no_stop_words), key = lambda x: -x[1])\n",
    "print('Unique word count', len(word_list))\n",
    "print('Top 10 words', word_list[0:10])"
   ]
  },
  {
   "cell_type": "code",
   "execution_count": 10,
   "metadata": {},
   "outputs": [],
   "source": [
    "words = [word[0] for word in word_list]"
   ]
  },
  {
   "cell_type": "code",
   "execution_count": 12,
   "metadata": {},
   "outputs": [],
   "source": [
    "with open('./spanish_words.txt', 'w') as f:\n",
    "    for item in word_list:\n",
    "        f.write(\"%s,%d\\n\" % (item[0], item[1]))"
   ]
  }
 ],
 "metadata": {
  "kernelspec": {
   "display_name": "Python 3",
   "language": "python",
   "name": "python3"
  },
  "language_info": {
   "codemirror_mode": {
    "name": "ipython",
    "version": 3
   },
   "file_extension": ".py",
   "mimetype": "text/x-python",
   "name": "python",
   "nbconvert_exporter": "python",
   "pygments_lexer": "ipython3",
   "version": "3.7.3"
  }
 },
 "nbformat": 4,
 "nbformat_minor": 2
}
